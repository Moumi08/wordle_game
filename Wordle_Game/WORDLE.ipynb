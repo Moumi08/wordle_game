{
 "cells": [
  {
   "cell_type": "code",
   "execution_count": 1,
   "id": "9427076d",
   "metadata": {},
   "outputs": [
    {
     "data": {
      "text/html": [
       "<pre style=\"white-space:pre;overflow-x:auto;line-height:normal;font-family:Menlo,'DejaVu Sans Mono',consolas,'Courier New',monospace\">\n",
       "<span style=\"color: #c0c0c0; text-decoration-color: #c0c0c0; background-color: #000080\"> WELCOME TO WORDLE </span>\n",
       "\n",
       "</pre>\n"
      ],
      "text/plain": [
       "\n",
       "\u001b[37;44m WELCOME TO WORDLE \u001b[0m\n",
       "\n"
      ]
     },
     "metadata": {},
     "output_type": "display_data"
    },
    {
     "data": {
      "text/html": [
       "<pre style=\"white-space:pre;overflow-x:auto;line-height:normal;font-family:Menlo,'DejaVu Sans Mono',consolas,'Courier New',monospace\">You may start guessing\n",
       "\n",
       "</pre>\n"
      ],
      "text/plain": [
       "You may start guessing\n",
       "\n"
      ]
     },
     "metadata": {},
     "output_type": "display_data"
    },
    {
     "data": {
      "text/html": [
       "<pre style=\"white-space:pre;overflow-x:auto;line-height:normal;font-family:Menlo,'DejaVu Sans Mono',consolas,'Courier New',monospace\">\n",
       "Enter your guess: </pre>\n"
      ],
      "text/plain": [
       "\n",
       "Enter your guess: "
      ]
     },
     "metadata": {},
     "output_type": "display_data"
    },
    {
     "name": "stdout",
     "output_type": "stream",
     "text": [
      "STINK\n"
     ]
    },
    {
     "data": {
      "text/html": [
       "<pre style=\"white-space:pre;overflow-x:auto;line-height:normal;font-family:Menlo,'DejaVu Sans Mono',consolas,'Courier New',monospace\"><span style=\"color: #000000; text-decoration-color: #000000; background-color: #c0c0c0\">S</span><span style=\"color: #000000; text-decoration-color: #000000; background-color: #808000\">T</span><span style=\"color: #000000; text-decoration-color: #000000; background-color: #c0c0c0\">I</span><span style=\"color: #000000; text-decoration-color: #000000; background-color: #808000\">N</span><span style=\"color: #000000; text-decoration-color: #000000; background-color: #c0c0c0\">K</span>\n",
       "</pre>\n"
      ],
      "text/plain": [
       "\u001b[30;47mS\u001b[0m\u001b[30;43mT\u001b[0m\u001b[30;47mI\u001b[0m\u001b[30;43mN\u001b[0m\u001b[30;47mK\u001b[0m\n"
      ]
     },
     "metadata": {},
     "output_type": "display_data"
    },
    {
     "data": {
      "text/html": [
       "<pre style=\"white-space:pre;overflow-x:auto;line-height:normal;font-family:Menlo,'DejaVu Sans Mono',consolas,'Courier New',monospace\">\n",
       "Enter your guess: </pre>\n"
      ],
      "text/plain": [
       "\n",
       "Enter your guess: "
      ]
     },
     "metadata": {},
     "output_type": "display_data"
    },
    {
     "name": "stdout",
     "output_type": "stream",
     "text": [
      "THINK\n"
     ]
    },
    {
     "data": {
      "text/html": [
       "<pre style=\"white-space:pre;overflow-x:auto;line-height:normal;font-family:Menlo,'DejaVu Sans Mono',consolas,'Courier New',monospace\"><span style=\"color: #000000; text-decoration-color: #000000; background-color: #c0c0c0\">S</span><span style=\"color: #000000; text-decoration-color: #000000; background-color: #808000\">T</span><span style=\"color: #000000; text-decoration-color: #000000; background-color: #c0c0c0\">I</span><span style=\"color: #000000; text-decoration-color: #000000; background-color: #808000\">N</span><span style=\"color: #000000; text-decoration-color: #000000; background-color: #c0c0c0\">K</span>\n",
       "<span style=\"color: #000000; text-decoration-color: #000000; background-color: #808000\">T</span><span style=\"color: #000000; text-decoration-color: #000000; background-color: #c0c0c0\">HI</span><span style=\"color: #000000; text-decoration-color: #000000; background-color: #808000\">N</span><span style=\"color: #000000; text-decoration-color: #000000; background-color: #c0c0c0\">K</span>\n",
       "</pre>\n"
      ],
      "text/plain": [
       "\u001b[30;47mS\u001b[0m\u001b[30;43mT\u001b[0m\u001b[30;47mI\u001b[0m\u001b[30;43mN\u001b[0m\u001b[30;47mK\u001b[0m\n",
       "\u001b[30;43mT\u001b[0m\u001b[30;47mH\u001b[0m\u001b[30;47mI\u001b[0m\u001b[30;43mN\u001b[0m\u001b[30;47mK\u001b[0m\n"
      ]
     },
     "metadata": {},
     "output_type": "display_data"
    },
    {
     "data": {
      "text/html": [
       "<pre style=\"white-space:pre;overflow-x:auto;line-height:normal;font-family:Menlo,'DejaVu Sans Mono',consolas,'Courier New',monospace\">\n",
       "Enter your guess: </pre>\n"
      ],
      "text/plain": [
       "\n",
       "Enter your guess: "
      ]
     },
     "metadata": {},
     "output_type": "display_data"
    },
    {
     "name": "stdout",
     "output_type": "stream",
     "text": [
      "SUNNY\n"
     ]
    },
    {
     "data": {
      "text/html": [
       "<pre style=\"white-space:pre;overflow-x:auto;line-height:normal;font-family:Menlo,'DejaVu Sans Mono',consolas,'Courier New',monospace\"><span style=\"color: #000000; text-decoration-color: #000000; background-color: #c0c0c0\">S</span><span style=\"color: #000000; text-decoration-color: #000000; background-color: #808000\">T</span><span style=\"color: #000000; text-decoration-color: #000000; background-color: #c0c0c0\">I</span><span style=\"color: #000000; text-decoration-color: #000000; background-color: #808000\">N</span><span style=\"color: #000000; text-decoration-color: #000000; background-color: #c0c0c0\">K</span>\n",
       "<span style=\"color: #000000; text-decoration-color: #000000; background-color: #808000\">T</span><span style=\"color: #000000; text-decoration-color: #000000; background-color: #c0c0c0\">HI</span><span style=\"color: #000000; text-decoration-color: #000000; background-color: #808000\">N</span><span style=\"color: #000000; text-decoration-color: #000000; background-color: #c0c0c0\">K</span>\n",
       "<span style=\"color: #000000; text-decoration-color: #000000; background-color: #c0c0c0\">SU</span><span style=\"color: #000000; text-decoration-color: #000000; background-color: #808000\">NN</span><span style=\"color: #000000; text-decoration-color: #000000; background-color: #c0c0c0\">Y</span>\n",
       "</pre>\n"
      ],
      "text/plain": [
       "\u001b[30;47mS\u001b[0m\u001b[30;43mT\u001b[0m\u001b[30;47mI\u001b[0m\u001b[30;43mN\u001b[0m\u001b[30;47mK\u001b[0m\n",
       "\u001b[30;43mT\u001b[0m\u001b[30;47mH\u001b[0m\u001b[30;47mI\u001b[0m\u001b[30;43mN\u001b[0m\u001b[30;47mK\u001b[0m\n",
       "\u001b[30;47mS\u001b[0m\u001b[30;47mU\u001b[0m\u001b[30;43mN\u001b[0m\u001b[30;43mN\u001b[0m\u001b[30;47mY\u001b[0m\n"
      ]
     },
     "metadata": {},
     "output_type": "display_data"
    },
    {
     "data": {
      "text/html": [
       "<pre style=\"white-space:pre;overflow-x:auto;line-height:normal;font-family:Menlo,'DejaVu Sans Mono',consolas,'Courier New',monospace\">\n",
       "Enter your guess: </pre>\n"
      ],
      "text/plain": [
       "\n",
       "Enter your guess: "
      ]
     },
     "metadata": {},
     "output_type": "display_data"
    },
    {
     "name": "stdout",
     "output_type": "stream",
     "text": [
      "APPLE\n"
     ]
    },
    {
     "data": {
      "text/html": [
       "<pre style=\"white-space:pre;overflow-x:auto;line-height:normal;font-family:Menlo,'DejaVu Sans Mono',consolas,'Courier New',monospace\"><span style=\"color: #000000; text-decoration-color: #000000; background-color: #c0c0c0\">S</span><span style=\"color: #000000; text-decoration-color: #000000; background-color: #808000\">T</span><span style=\"color: #000000; text-decoration-color: #000000; background-color: #c0c0c0\">I</span><span style=\"color: #000000; text-decoration-color: #000000; background-color: #808000\">N</span><span style=\"color: #000000; text-decoration-color: #000000; background-color: #c0c0c0\">K</span>\n",
       "<span style=\"color: #000000; text-decoration-color: #000000; background-color: #808000\">T</span><span style=\"color: #000000; text-decoration-color: #000000; background-color: #c0c0c0\">HI</span><span style=\"color: #000000; text-decoration-color: #000000; background-color: #808000\">N</span><span style=\"color: #000000; text-decoration-color: #000000; background-color: #c0c0c0\">K</span>\n",
       "<span style=\"color: #000000; text-decoration-color: #000000; background-color: #c0c0c0\">SU</span><span style=\"color: #000000; text-decoration-color: #000000; background-color: #808000\">NN</span><span style=\"color: #000000; text-decoration-color: #000000; background-color: #c0c0c0\">Y</span>\n",
       "<span style=\"color: #000000; text-decoration-color: #000000; background-color: #c0c0c0\">APPL</span><span style=\"color: #000000; text-decoration-color: #000000; background-color: #808000\">E</span>\n",
       "</pre>\n"
      ],
      "text/plain": [
       "\u001b[30;47mS\u001b[0m\u001b[30;43mT\u001b[0m\u001b[30;47mI\u001b[0m\u001b[30;43mN\u001b[0m\u001b[30;47mK\u001b[0m\n",
       "\u001b[30;43mT\u001b[0m\u001b[30;47mH\u001b[0m\u001b[30;47mI\u001b[0m\u001b[30;43mN\u001b[0m\u001b[30;47mK\u001b[0m\n",
       "\u001b[30;47mS\u001b[0m\u001b[30;47mU\u001b[0m\u001b[30;43mN\u001b[0m\u001b[30;43mN\u001b[0m\u001b[30;47mY\u001b[0m\n",
       "\u001b[30;47mA\u001b[0m\u001b[30;47mP\u001b[0m\u001b[30;47mP\u001b[0m\u001b[30;47mL\u001b[0m\u001b[30;43mE\u001b[0m\n"
      ]
     },
     "metadata": {},
     "output_type": "display_data"
    },
    {
     "data": {
      "text/html": [
       "<pre style=\"white-space:pre;overflow-x:auto;line-height:normal;font-family:Menlo,'DejaVu Sans Mono',consolas,'Courier New',monospace\">\n",
       "Enter your guess: </pre>\n"
      ],
      "text/plain": [
       "\n",
       "Enter your guess: "
      ]
     },
     "metadata": {},
     "output_type": "display_data"
    },
    {
     "name": "stdout",
     "output_type": "stream",
     "text": [
      "TINY\n"
     ]
    },
    {
     "data": {
      "text/html": [
       "<pre style=\"white-space:pre;overflow-x:auto;line-height:normal;font-family:Menlo,'DejaVu Sans Mono',consolas,'Courier New',monospace\"><span style=\"color: #800000; text-decoration-color: #800000\">Please enter a </span><span style=\"color: #800000; text-decoration-color: #800000; font-weight: bold\">5</span><span style=\"color: #800000; text-decoration-color: #800000\">-letter word!!</span>\n",
       "\n",
       "</pre>\n"
      ],
      "text/plain": [
       "\u001b[31mPlease enter a \u001b[0m\u001b[1;31m5\u001b[0m\u001b[31m-letter word!!\u001b[0m\n",
       "\n"
      ]
     },
     "metadata": {},
     "output_type": "display_data"
    },
    {
     "data": {
      "text/html": [
       "<pre style=\"white-space:pre;overflow-x:auto;line-height:normal;font-family:Menlo,'DejaVu Sans Mono',consolas,'Courier New',monospace\">\n",
       "Enter your guess: </pre>\n"
      ],
      "text/plain": [
       "\n",
       "Enter your guess: "
      ]
     },
     "metadata": {},
     "output_type": "display_data"
    },
    {
     "name": "stdout",
     "output_type": "stream",
     "text": [
      "PRIME\n"
     ]
    },
    {
     "data": {
      "text/html": [
       "<pre style=\"white-space:pre;overflow-x:auto;line-height:normal;font-family:Menlo,'DejaVu Sans Mono',consolas,'Courier New',monospace\"><span style=\"color: #000000; text-decoration-color: #000000; background-color: #c0c0c0\">S</span><span style=\"color: #000000; text-decoration-color: #000000; background-color: #808000\">T</span><span style=\"color: #000000; text-decoration-color: #000000; background-color: #c0c0c0\">I</span><span style=\"color: #000000; text-decoration-color: #000000; background-color: #808000\">N</span><span style=\"color: #000000; text-decoration-color: #000000; background-color: #c0c0c0\">K</span>\n",
       "<span style=\"color: #000000; text-decoration-color: #000000; background-color: #808000\">T</span><span style=\"color: #000000; text-decoration-color: #000000; background-color: #c0c0c0\">HI</span><span style=\"color: #000000; text-decoration-color: #000000; background-color: #808000\">N</span><span style=\"color: #000000; text-decoration-color: #000000; background-color: #c0c0c0\">K</span>\n",
       "<span style=\"color: #000000; text-decoration-color: #000000; background-color: #c0c0c0\">SU</span><span style=\"color: #000000; text-decoration-color: #000000; background-color: #808000\">NN</span><span style=\"color: #000000; text-decoration-color: #000000; background-color: #c0c0c0\">Y</span>\n",
       "<span style=\"color: #000000; text-decoration-color: #000000; background-color: #c0c0c0\">APPL</span><span style=\"color: #000000; text-decoration-color: #000000; background-color: #808000\">E</span>\n",
       "<span style=\"color: #000000; text-decoration-color: #000000; background-color: #c0c0c0\">P</span><span style=\"color: #000000; text-decoration-color: #000000; background-color: #808000\">R</span><span style=\"color: #000000; text-decoration-color: #000000; background-color: #c0c0c0\">IM</span><span style=\"color: #000000; text-decoration-color: #000000; background-color: #808000\">E</span>\n",
       "</pre>\n"
      ],
      "text/plain": [
       "\u001b[30;47mS\u001b[0m\u001b[30;43mT\u001b[0m\u001b[30;47mI\u001b[0m\u001b[30;43mN\u001b[0m\u001b[30;47mK\u001b[0m\n",
       "\u001b[30;43mT\u001b[0m\u001b[30;47mH\u001b[0m\u001b[30;47mI\u001b[0m\u001b[30;43mN\u001b[0m\u001b[30;47mK\u001b[0m\n",
       "\u001b[30;47mS\u001b[0m\u001b[30;47mU\u001b[0m\u001b[30;43mN\u001b[0m\u001b[30;43mN\u001b[0m\u001b[30;47mY\u001b[0m\n",
       "\u001b[30;47mA\u001b[0m\u001b[30;47mP\u001b[0m\u001b[30;47mP\u001b[0m\u001b[30;47mL\u001b[0m\u001b[30;43mE\u001b[0m\n",
       "\u001b[30;47mP\u001b[0m\u001b[30;43mR\u001b[0m\u001b[30;47mI\u001b[0m\u001b[30;47mM\u001b[0m\u001b[30;43mE\u001b[0m\n"
      ]
     },
     "metadata": {},
     "output_type": "display_data"
    },
    {
     "data": {
      "text/html": [
       "<pre style=\"white-space:pre;overflow-x:auto;line-height:normal;font-family:Menlo,'DejaVu Sans Mono',consolas,'Courier New',monospace\">\n",
       "Enter your guess: </pre>\n"
      ],
      "text/plain": [
       "\n",
       "Enter your guess: "
      ]
     },
     "metadata": {},
     "output_type": "display_data"
    },
    {
     "name": "stdout",
     "output_type": "stream",
     "text": [
      "STOCK\n"
     ]
    },
    {
     "data": {
      "text/html": [
       "<pre style=\"white-space:pre;overflow-x:auto;line-height:normal;font-family:Menlo,'DejaVu Sans Mono',consolas,'Courier New',monospace\"><span style=\"color: #000000; text-decoration-color: #000000; background-color: #c0c0c0\">S</span><span style=\"color: #000000; text-decoration-color: #000000; background-color: #808000\">T</span><span style=\"color: #000000; text-decoration-color: #000000; background-color: #c0c0c0\">I</span><span style=\"color: #000000; text-decoration-color: #000000; background-color: #808000\">N</span><span style=\"color: #000000; text-decoration-color: #000000; background-color: #c0c0c0\">K</span>\n",
       "<span style=\"color: #000000; text-decoration-color: #000000; background-color: #808000\">T</span><span style=\"color: #000000; text-decoration-color: #000000; background-color: #c0c0c0\">HI</span><span style=\"color: #000000; text-decoration-color: #000000; background-color: #808000\">N</span><span style=\"color: #000000; text-decoration-color: #000000; background-color: #c0c0c0\">K</span>\n",
       "<span style=\"color: #000000; text-decoration-color: #000000; background-color: #c0c0c0\">SU</span><span style=\"color: #000000; text-decoration-color: #000000; background-color: #808000\">NN</span><span style=\"color: #000000; text-decoration-color: #000000; background-color: #c0c0c0\">Y</span>\n",
       "<span style=\"color: #000000; text-decoration-color: #000000; background-color: #c0c0c0\">APPL</span><span style=\"color: #000000; text-decoration-color: #000000; background-color: #808000\">E</span>\n",
       "<span style=\"color: #000000; text-decoration-color: #000000; background-color: #c0c0c0\">P</span><span style=\"color: #000000; text-decoration-color: #000000; background-color: #808000\">R</span><span style=\"color: #000000; text-decoration-color: #000000; background-color: #c0c0c0\">IM</span><span style=\"color: #000000; text-decoration-color: #000000; background-color: #808000\">E</span>\n",
       "<span style=\"color: #000000; text-decoration-color: #000000; background-color: #c0c0c0\">S</span><span style=\"color: #000000; text-decoration-color: #000000; background-color: #808000\">T</span><span style=\"color: #000000; text-decoration-color: #000000; background-color: #c0c0c0\">OCK</span>\n",
       "</pre>\n"
      ],
      "text/plain": [
       "\u001b[30;47mS\u001b[0m\u001b[30;43mT\u001b[0m\u001b[30;47mI\u001b[0m\u001b[30;43mN\u001b[0m\u001b[30;47mK\u001b[0m\n",
       "\u001b[30;43mT\u001b[0m\u001b[30;47mH\u001b[0m\u001b[30;47mI\u001b[0m\u001b[30;43mN\u001b[0m\u001b[30;47mK\u001b[0m\n",
       "\u001b[30;47mS\u001b[0m\u001b[30;47mU\u001b[0m\u001b[30;43mN\u001b[0m\u001b[30;43mN\u001b[0m\u001b[30;47mY\u001b[0m\n",
       "\u001b[30;47mA\u001b[0m\u001b[30;47mP\u001b[0m\u001b[30;47mP\u001b[0m\u001b[30;47mL\u001b[0m\u001b[30;43mE\u001b[0m\n",
       "\u001b[30;47mP\u001b[0m\u001b[30;43mR\u001b[0m\u001b[30;47mI\u001b[0m\u001b[30;47mM\u001b[0m\u001b[30;43mE\u001b[0m\n",
       "\u001b[30;47mS\u001b[0m\u001b[30;43mT\u001b[0m\u001b[30;47mO\u001b[0m\u001b[30;47mC\u001b[0m\u001b[30;47mK\u001b[0m\n"
      ]
     },
     "metadata": {},
     "output_type": "display_data"
    },
    {
     "data": {
      "text/html": [
       "<pre style=\"white-space:pre;overflow-x:auto;line-height:normal;font-family:Menlo,'DejaVu Sans Mono',consolas,'Courier New',monospace\">\n",
       "<span style=\"color: #800000; text-decoration-color: #800000\">WORDLE X/</span><span style=\"color: #800000; text-decoration-color: #800000; font-weight: bold\">6</span>\n",
       "</pre>\n"
      ],
      "text/plain": [
       "\n",
       "\u001b[31mWORDLE X/\u001b[0m\u001b[1;31m6\u001b[0m\n"
      ]
     },
     "metadata": {},
     "output_type": "display_data"
    },
    {
     "data": {
      "text/html": [
       "<pre style=\"white-space:pre;overflow-x:auto;line-height:normal;font-family:Menlo,'DejaVu Sans Mono',consolas,'Courier New',monospace\">\n",
       "<span style=\"color: #008000; text-decoration-color: #008000\">Correct Word: ENTER</span>\n",
       "</pre>\n"
      ],
      "text/plain": [
       "\n",
       "\u001b[32mCorrect Word: ENTER\u001b[0m\n"
      ]
     },
     "metadata": {},
     "output_type": "display_data"
    },
    {
     "data": {
      "text/html": [
       "<pre style=\"white-space:pre;overflow-x:auto;line-height:normal;font-family:Menlo,'DejaVu Sans Mono',consolas,'Courier New',monospace\">⬛🟨⬛🟨⬛\n",
       "🟨⬛⬛🟨⬛\n",
       "⬛⬛🟨🟨⬛\n",
       "⬛⬛⬛⬛🟨\n",
       "⬛🟨⬛⬛🟨\n",
       "⬛🟨⬛⬛⬛\n",
       "</pre>\n"
      ],
      "text/plain": [
       "⬛🟨⬛🟨⬛\n",
       "🟨⬛⬛🟨⬛\n",
       "⬛⬛🟨🟨⬛\n",
       "⬛⬛⬛⬛🟨\n",
       "⬛🟨⬛⬛🟨\n",
       "⬛🟨⬛⬛⬛\n"
      ]
     },
     "metadata": {},
     "output_type": "display_data"
    }
   ],
   "source": [
    "from rich.prompt import Prompt\n",
    "from rich.console import Console\n",
    "from random import choice\n",
    "from words import word_list\n",
    "\n",
    "SQUARES = {\n",
    "    'correct_place': '🟩',\n",
    "    'correct_letter': '🟨',\n",
    "    'incorrect_letter': '⬛'\n",
    "}\n",
    "\n",
    "WELCOME_MESSAGE = f'\\n[white on blue] WELCOME TO WORDLE [/]\\n'\n",
    "PLAYER_INSTRUCTIONS = \"You may start guessing\\n\"\n",
    "GUESS_STATEMENT = \"\\nEnter your guess\"\n",
    "ALLOWED_GUESSES = 6\n",
    "\n",
    "def correct_place(letter):\n",
    "    return f'[black on green]{letter}[/]'\n",
    "\n",
    "\n",
    "def correct_letter(letter):\n",
    "    return f'[black on yellow]{letter}[/]'\n",
    "\n",
    "\n",
    "def incorrect_letter(letter):\n",
    "    return f'[black on white]{letter}[/]'\n",
    "\n",
    "\n",
    "def check_guess(guess, answer):\n",
    "    guessed = []\n",
    "    wordle_pattern = []\n",
    "    for i, letter in enumerate(guess):\n",
    "        if answer[i] == guess[i]:\n",
    "            guessed += correct_place(letter)\n",
    "            wordle_pattern.append(SQUARES['correct_place'])\n",
    "        elif letter in answer:\n",
    "            guessed += correct_letter(letter)\n",
    "            wordle_pattern.append(SQUARES['correct_letter'])\n",
    "        else:\n",
    "            guessed += incorrect_letter(letter)\n",
    "            wordle_pattern.append(SQUARES['incorrect_letter'])\n",
    "    return ''.join(guessed), ''.join(wordle_pattern)\n",
    "\n",
    "\n",
    "def game(console, chosen_word):\n",
    "    end_of_game = False\n",
    "    already_guessed = []\n",
    "    full_wordle_pattern = []\n",
    "    all_words_guessed = []\n",
    "\n",
    "    while not end_of_game:\n",
    "        guess = Prompt.ask(GUESS_STATEMENT).upper()\n",
    "        while len(guess) != 5 or guess in already_guessed:\n",
    "            if guess in already_guessed:\n",
    "                console.print(\"[red]You've already guessed this word!!\\n[/]\")\n",
    "            else:\n",
    "                console.print('[red]Please enter a 5-letter word!!\\n[/]')\n",
    "            guess = Prompt.ask(GUESS_STATEMENT).upper()\n",
    "        already_guessed.append(guess)\n",
    "        guessed, pattern = check_guess(guess, chosen_word)\n",
    "        all_words_guessed.append(guessed)\n",
    "        full_wordle_pattern.append(pattern)\n",
    "\n",
    "        console.print(*all_words_guessed, sep=\"\\n\")\n",
    "        if guess == chosen_word or len(already_guessed) == ALLOWED_GUESSES:\n",
    "            end_of_game = True\n",
    "    if len(already_guessed) == ALLOWED_GUESSES and guess != chosen_word:\n",
    "        console.print(f\"\\n[red]WORDLE X/{ALLOWED_GUESSES}[/]\")\n",
    "        console.print(f'\\n[green]Correct Word: {chosen_word}[/]')\n",
    "    else:\n",
    "        console.print(f\"\\n[green]WORDLE {len(already_guessed)}/{ALLOWED_GUESSES}[/]\\n\")\n",
    "    console.print(*full_wordle_pattern, sep=\"\\n\")\n",
    "\n",
    "\n",
    "if __name__ == '__main__':\n",
    "    console = Console()\n",
    "    chosen_word = choice(word_list)\n",
    "    console.print(WELCOME_MESSAGE)\n",
    "    console.print(PLAYER_INSTRUCTIONS)\n",
    "    game(console, chosen_word)\n"
   ]
  },
  {
   "cell_type": "code",
   "execution_count": null,
   "id": "e2b788a3",
   "metadata": {},
   "outputs": [],
   "source": []
  }
 ],
 "metadata": {
  "kernelspec": {
   "display_name": "Python 3",
   "language": "python",
   "name": "python3"
  },
  "language_info": {
   "codemirror_mode": {
    "name": "ipython",
    "version": 3
   },
   "file_extension": ".py",
   "mimetype": "text/x-python",
   "name": "python",
   "nbconvert_exporter": "python",
   "pygments_lexer": "ipython3",
   "version": "3.8.8"
  }
 },
 "nbformat": 4,
 "nbformat_minor": 5
}
